{
 "cells": [
  {
   "cell_type": "code",
   "execution_count": 1,
   "id": "noticed-parent",
   "metadata": {},
   "outputs": [],
   "source": [
    "from numpy import load\n",
    "from numpy import zeros\n",
    "from numpy import ones\n",
    "from numpy.random import randint\n",
    "from tensorflow.keras.optimizers import Adam\n",
    "from tensorflow.keras.initializers import RandomNormal\n",
    "from tensorflow.keras.models import Model\n",
    "from tensorflow.keras.layers import Input\n",
    "from tensorflow.keras.layers import Conv2D\n",
    "from tensorflow.keras.layers import Conv2DTranspose\n",
    "from tensorflow.keras.layers import LeakyReLU\n",
    "from tensorflow.keras.layers import Activation\n",
    "from tensorflow.keras.layers import Concatenate\n",
    "from tensorflow.keras.layers import Dropout\n",
    "from tensorflow.keras.layers import BatchNormalization\n",
    "from tensorflow.keras.layers import LeakyReLU\n",
    "from tensorflow.keras.layers import Flatten\n",
    "from matplotlib import pyplot\n",
    "from PIL import Image\n",
    "import os, sys\n",
    "from sklearn.model_selection import train_test_split\n",
    "import numpy"
   ]
  },
  {
   "cell_type": "code",
   "execution_count": 2,
   "id": "alternative-worship",
   "metadata": {},
   "outputs": [],
   "source": [
    "# Define the encoder block based on the original paper\n",
    "def define_encoder_block(layer, filtersNo, batchnorm=True):\n",
    "    \n",
    "    # init weights from a Gaussian distribution with mean 0 and standard deviation 0.02\n",
    "    init = RandomNormal(stddev=0.02)\n",
    "    \n",
    "    # in the original paper, all convolution kernels are (4,4), with stride 2. Stride for decoder means downsampling.\n",
    "    x = Conv2D(filtersNo, (4,4), strides=(2,2), padding='same', kernel_initializer=init)(layer)\n",
    "    \n",
    "    # Conditional batch normalization (important for the first layer)\n",
    "    if batchnorm:\n",
    "        x = BatchNormalization()(x, training=True)\n",
    "        \n",
    "    # All ReLUs in the encoder are leaky!\n",
    "    x = LeakyReLU(alpha=0.2)(x)\n",
    "    \n",
    "    return x"
   ]
  },
  {
   "cell_type": "code",
   "execution_count": 3,
   "id": "previous-munich",
   "metadata": {},
   "outputs": [],
   "source": [
    "# Define the decoder block based on the original paper\n",
    "def decoder_block(layer, skip, filtersNo, dropout=True, batch=True):\n",
    "    \n",
    "    # init weights from a Gaussian distribution with mean 0 and standard deviation 0.02\n",
    "    init = RandomNormal(stddev=0.02)\n",
    "    \n",
    "    # in the original paper, all convolution kernels are (4,4), with stride 2. Stride for decoder means upsampling.\n",
    "    x = Conv2DTranspose(filtersNo, (4,4), strides=(2,2), padding='same', kernel_initializer=init)(layer)\n",
    "\n",
    "    # All layers in the original paper have batch normalization, although we set an if statement just to play with the model\n",
    "    if batch:\n",
    "        x = BatchNormalization()(x, training=True)\n",
    "        \n",
    "    # Some decoder layers don't have dropout\n",
    "    if dropout:\n",
    "        x = Dropout(0.5)(x, training=True)\n",
    "        \n",
    "    # Merge with skip connection\n",
    "    x = Concatenate()([x, skip])\n",
    "    \n",
    "    # All ReLUs in the decoder are not leaky!\n",
    "    x = Activation('relu')(x)\n",
    "    \n",
    "    return x"
   ]
  },
  {
   "cell_type": "code",
   "execution_count": 4,
   "id": "gothic-flush",
   "metadata": {},
   "outputs": [],
   "source": [
    "# Define the generator based on encoder/decoder\n",
    "def define_generator():\n",
    "    \n",
    "    # init weights from a Gaussian distribution with mean 0 and standard deviation 0.02\n",
    "    init = RandomNormal(stddev=0.02)\n",
    "    \n",
    "    # image input\n",
    "    inputImage = Input(shape=(128,128,1))\n",
    "    \n",
    "    ###### Encoder\n",
    "    \n",
    "    # C64, input (128,128,1), output (64,64,64)\n",
    "    encoderLayer1 = define_encoder_block(inputImage, 64, batchnorm=False)\n",
    "    \n",
    "    #C128, input (64,64,64), output (32,32,128)\n",
    "    encoderLayer2 = define_encoder_block(encoderLayer1, 128)\n",
    "    \n",
    "    #C256, input (32,32,128), output (16,16,256)\n",
    "    encoderLayer3 = define_encoder_block(encoderLayer2, 256)\n",
    "    \n",
    "    #C512, input (16,16,256), output (8,8,512)\n",
    "    encoderLayer4 = define_encoder_block(encoderLayer3, 512)\n",
    "    \n",
    "    #C512, input (8,8,512), output (4,4,512)\n",
    "    encoderLayer5 = define_encoder_block(encoderLayer4, 512)\n",
    "    \n",
    "    #C512, input (4,4,512), output (2,2,512)\n",
    "    encoderLayer6 = define_encoder_block(encoderLayer5, 512)\n",
    "    \n",
    "    ###### Bottleneck layer, will have an input of (2,2,512) and an output of (1,1,512)\n",
    "    bottleneck = Conv2D(512, (4,4), strides=(2,2), padding='same', kernel_initializer=init)(encoderLayer6)\n",
    "    bottleneck = Activation('relu')(bottleneck)\n",
    "    \n",
    "    ###### Decoder, with skip connection\n",
    "    \n",
    "    #CD512\n",
    "    decoderLayer1 = decoder_block(bottleneck, encoderLayer6, 512)\n",
    "    \n",
    "    #CD512\n",
    "    decoderLayer2 = decoder_block(decoderLayer1, encoderLayer5, 512)\n",
    "    \n",
    "    #C512\n",
    "    decoderLayer3 = decoder_block(decoderLayer2, encoderLayer4, 512, dropout=False)\n",
    "    \n",
    "    #C256\n",
    "    decoderLayer4 = decoder_block(decoderLayer3, encoderLayer3, 256, dropout=False)\n",
    "    \n",
    "    #C128\n",
    "    decoderLayer5 = decoder_block(decoderLayer4, encoderLayer2, 128, dropout=False)\n",
    "    \n",
    "    #C64\n",
    "    decoderLayer6 = decoder_block(decoderLayer5, encoderLayer1, 64, dropout=False)\n",
    "    \n",
    "    # Output with tanh function, as mentioned in the original paper. Output will be (128x128x3)\n",
    "    g = Conv2DTranspose(3, (4,4), strides=(2,2), padding='same', kernel_initializer=init)(decoderLayer6)\n",
    "    outputImage = Activation('tanh')(g)\n",
    "    \n",
    "    # Define model\n",
    "    model = Model(inputImage, outputImage)\n",
    "    \n",
    "    return model"
   ]
  },
  {
   "cell_type": "code",
   "execution_count": 5,
   "id": "printable-active",
   "metadata": {},
   "outputs": [],
   "source": [
    "# Define the 70x70 discriminator as in the original paper\n",
    "def define_discriminator():\n",
    "    \n",
    "    # init weights from a Gaussian distribution with mean 0 and standard deviation 0.02\n",
    "    init = RandomNormal(stddev=0.02)\n",
    "    \n",
    "    # source image input\n",
    "    source = Input(shape=(128,128,1))\n",
    "    \n",
    "    # target image input\n",
    "    target = Input(shape=(128,128,3))\n",
    "    \n",
    "    # concatenate images channel-wise\n",
    "    merged = Concatenate()([source, target])\n",
    "    \n",
    "    # C64\n",
    "    d = Conv2D(64, (4,4), strides=(2,2), padding='same', kernel_initializer=init)(merged)\n",
    "    d = LeakyReLU(alpha=0.2)(d)\n",
    "    \n",
    "    # C128\n",
    "    d = Conv2D(128, (4,4), strides=(2,2), padding='same', kernel_initializer=init)(d)\n",
    "    d = BatchNormalization()(d)\n",
    "    d = LeakyReLU(alpha=0.2)(d)\n",
    "    \n",
    "    # C256\n",
    "    d = Conv2D(256, (4,4), strides=(2,2), padding='same', kernel_initializer=init)(d)\n",
    "    d = BatchNormalization()(d)\n",
    "    d = LeakyReLU(alpha=0.2)(d)\n",
    "    \n",
    "    # C512\n",
    "    d = Conv2D(512, (4,4), strides=(2,2), padding='same', kernel_initializer=init)(d)\n",
    "    d = BatchNormalization()(d)\n",
    "    d = LeakyReLU(alpha=0.2)(d)\n",
    "    \n",
    "    # patch output\n",
    "    d = Conv2D(1, (8,8), strides=(8,8), padding='same', kernel_initializer=init)(d)\n",
    "    patch_out = Activation('sigmoid')(d)\n",
    "    patch_out = Flatten()(patch_out)\n",
    "    \n",
    "    # define model\n",
    "    model = Model([source, target], patch_out)\n",
    "    \n",
    "    # compile model\n",
    "    opt = Adam(lr=0.0002, beta_1=0.5)\n",
    "    model.compile(loss='binary_crossentropy', optimizer=opt, loss_weights=[0.5])\n",
    "    return model"
   ]
  },
  {
   "cell_type": "code",
   "execution_count": 6,
   "id": "loving-stereo",
   "metadata": {},
   "outputs": [],
   "source": [
    "# Define Pix2Pix GAN\n",
    "def pix2pix(generator, discriminator):\n",
    "    \n",
    "    # make weights in the discriminator not trainable\n",
    "    for layer in discriminator.layers:\n",
    "        if not isinstance(layer, BatchNormalization):\n",
    "            layer.trainable = False\n",
    "            \n",
    "    # define the source image\n",
    "    source = Input(shape=(128,128,1))\n",
    "    \n",
    "    # connect the source image to the generator input\n",
    "    genOut = generator(source)\n",
    "    \n",
    "    # connect the source input and generator output to the discriminator input\n",
    "    disOut = discriminator([source, genOut])\n",
    "    \n",
    "    # src image as input, generated image and classification output\n",
    "    model = Model(source, [disOut, genOut])\n",
    "    \n",
    "    # compile model\n",
    "    opt = Adam(lr=0.0002, beta_1=0.5)\n",
    "    model.compile(loss=['binary_crossentropy', 'mae'], optimizer=opt, loss_weights=[1,100])\n",
    "    \n",
    "    return model"
   ]
  },
  {
   "cell_type": "code",
   "execution_count": 7,
   "id": "previous-blast",
   "metadata": {},
   "outputs": [],
   "source": [
    "def generateFromDataset(trainX, trainY, samples):\n",
    "    \n",
    "    # Choose random images from both input and output\n",
    "    no = randint(0, trainX.shape[0], samples)\n",
    "    gx, gy = trainX[no], trainY[no]\n",
    "    \n",
    "    # Set y-labels to 1, as these images are from dataset\n",
    "    y = ones((samples, 1))\n",
    "    return [gx, gy], y"
   ]
  },
  {
   "cell_type": "code",
   "execution_count": 8,
   "id": "fluid-license",
   "metadata": {},
   "outputs": [],
   "source": [
    "def generateFromGenerator(generator, samples):\n",
    "    # Generate fake instance\n",
    "    x = generator.predict(samples)\n",
    "    \n",
    "    # Labels will be zero because they come from the generator\n",
    "    y = zeros((len(x), 1))\n",
    "    \n",
    "    return x, y"
   ]
  },
  {
   "cell_type": "code",
   "execution_count": 18,
   "id": "awful-algorithm",
   "metadata": {},
   "outputs": [],
   "source": [
    "def summarize_performance(step, g_model, trainX, trainY, n_samples=5):\n",
    "    # select a sample of input images\n",
    "    [X_realA, X_realB], _ = generateFromDataset(trainX, trainY, n_samples)\n",
    "    \n",
    "    # Generate fake samples\n",
    "    X_fakeB, _ = generateFromGenerator(g_model, X_realA)\n",
    "    \n",
    "    # Plot black and white images\n",
    "    for i in range(n_samples):\n",
    "        pyplot.subplot(3, n_samples, 1 + i)\n",
    "        pyplot.axis('off')\n",
    "        pyplot.imshow(X_realA[i])\n",
    "        \n",
    "    # Plot generated images\n",
    "    for i in range(n_samples):\n",
    "        pyplot.subplot(3, n_samples, 1 + n_samples + i)\n",
    "        pyplot.axis('off')\n",
    "        pyplot.imshow(X_fakeB[i])\n",
    "        \n",
    "    # Plot expected output images\n",
    "    for i in range(n_samples):\n",
    "        pyplot.subplot(3, n_samples, 1 + n_samples*2 + i)\n",
    "        pyplot.axis('off')\n",
    "        pyplot.imshow(X_realB[i])\n",
    "        \n",
    "    # Save plot to file\n",
    "    filename1 = 'images/plot_%06d.png' % (step+1)\n",
    "    pyplot.savefig(filename1)\n",
    "    pyplot.close()\n",
    "    \n",
    "    # Save generator model\n",
    "    filename2 = 'models/model_%06d.h5' % (step+1)\n",
    "    g_model.save(filename2)\n",
    "    print('>Saved: %s and %s' % (filename1, filename2))"
   ]
  },
  {
   "cell_type": "code",
   "execution_count": 19,
   "id": "musical-homework",
   "metadata": {},
   "outputs": [],
   "source": [
    "def train(discriminator, generator, gan, epochs=100000, samplesPerEpoch=250):\n",
    "    \n",
    "    # Load the data\n",
    "    bwData = load(\"Flickr8kblackandwhite1dim.npy\")\n",
    "    colorData = load(\"flickr8k_shuffled.npy\")\n",
    "    y = numpy.ones((8091,1))\n",
    "    \n",
    "    BWSplit = numpy.array_split(bwData, 2)\n",
    "    colorSplit = numpy.array_split(colorData, 2)\n",
    "    glossMin = 999\n",
    "    # manually enumerate epochs\n",
    "    for i in range(epochs):\n",
    "        \n",
    "        # Generate real samples\n",
    "        [realX, realY], realLabel = generateFromDataset(BWSplit[0], colorSplit[0], samplesPerEpoch)\n",
    "        \n",
    "        # Generate fake samples\n",
    "        fakeY, fakeLabel = generateFromGenerator(generator, realX)\n",
    "        \n",
    "        # Update discriminator on real samples\n",
    "        realLoss = discriminator.train_on_batch([realX, realY], realLabel)\n",
    "        \n",
    "        # Update discriminator on fake samples\n",
    "        fakeLoss = discriminator.train_on_batch([realX, fakeY], fakeLabel)\n",
    "        \n",
    "        # Update generator\n",
    "        generatorLoss, _, _ = gan.train_on_batch(realX, [realLabel, realY])\n",
    "        \n",
    "        # summarize performance\n",
    "        print('>%d, d1[%.3f] d2[%.3f] g[%.3f]' % (i+1, realLoss, fakeLoss, generatorLoss))\n",
    "        if glossMin > generatorLoss:\n",
    "            summarize_performance(i, generator, BWSplit[0], colorSplit[0])\n",
    "            glossMin = generatorLoss"
   ]
  },
  {
   "cell_type": "code",
   "execution_count": 20,
   "id": "boxed-calibration",
   "metadata": {},
   "outputs": [],
   "source": [
    "d = define_discriminator()\n",
    "g = define_generator()\n",
    "p2p = pix2pix(g,d)"
   ]
  },
  {
   "cell_type": "code",
   "execution_count": null,
   "id": "coated-russian",
   "metadata": {},
   "outputs": [
    {
     "name": "stdout",
     "output_type": "stream",
     "text": [
      ">1, d1[0.793] d2[3.266] g[53.214]\n"
     ]
    },
    {
     "name": "stderr",
     "output_type": "stream",
     "text": [
      "Clipping input data to the valid range for imshow with RGB data ([0..1] for floats or [0..255] for integers).\n",
      "Clipping input data to the valid range for imshow with RGB data ([0..1] for floats or [0..255] for integers).\n",
      "Clipping input data to the valid range for imshow with RGB data ([0..1] for floats or [0..255] for integers).\n",
      "Clipping input data to the valid range for imshow with RGB data ([0..1] for floats or [0..255] for integers).\n",
      "Clipping input data to the valid range for imshow with RGB data ([0..1] for floats or [0..255] for integers).\n"
     ]
    },
    {
     "name": "stdout",
     "output_type": "stream",
     "text": [
      ">Saved: images/plot_000001.png and models/model_000001.h5\n"
     ]
    },
    {
     "name": "stderr",
     "output_type": "stream",
     "text": [
      "Clipping input data to the valid range for imshow with RGB data ([0..1] for floats or [0..255] for integers).\n",
      "Clipping input data to the valid range for imshow with RGB data ([0..1] for floats or [0..255] for integers).\n",
      "Clipping input data to the valid range for imshow with RGB data ([0..1] for floats or [0..255] for integers).\n",
      "Clipping input data to the valid range for imshow with RGB data ([0..1] for floats or [0..255] for integers).\n",
      "Clipping input data to the valid range for imshow with RGB data ([0..1] for floats or [0..255] for integers).\n"
     ]
    },
    {
     "name": "stdout",
     "output_type": "stream",
     "text": [
      ">2, d1[0.003] d2[3.653] g[51.900]\n",
      ">Saved: images/plot_000002.png and models/model_000002.h5\n"
     ]
    },
    {
     "name": "stderr",
     "output_type": "stream",
     "text": [
      "Clipping input data to the valid range for imshow with RGB data ([0..1] for floats or [0..255] for integers).\n",
      "Clipping input data to the valid range for imshow with RGB data ([0..1] for floats or [0..255] for integers).\n",
      "Clipping input data to the valid range for imshow with RGB data ([0..1] for floats or [0..255] for integers).\n",
      "Clipping input data to the valid range for imshow with RGB data ([0..1] for floats or [0..255] for integers).\n",
      "Clipping input data to the valid range for imshow with RGB data ([0..1] for floats or [0..255] for integers).\n"
     ]
    },
    {
     "name": "stdout",
     "output_type": "stream",
     "text": [
      ">3, d1[0.249] d2[1.736] g[51.697]\n",
      ">Saved: images/plot_000003.png and models/model_000003.h5\n",
      ">4, d1[0.765] d2[0.967] g[52.894]\n"
     ]
    },
    {
     "name": "stderr",
     "output_type": "stream",
     "text": [
      "Clipping input data to the valid range for imshow with RGB data ([0..1] for floats or [0..255] for integers).\n",
      "Clipping input data to the valid range for imshow with RGB data ([0..1] for floats or [0..255] for integers).\n",
      "Clipping input data to the valid range for imshow with RGB data ([0..1] for floats or [0..255] for integers).\n",
      "Clipping input data to the valid range for imshow with RGB data ([0..1] for floats or [0..255] for integers).\n",
      "Clipping input data to the valid range for imshow with RGB data ([0..1] for floats or [0..255] for integers).\n"
     ]
    },
    {
     "name": "stdout",
     "output_type": "stream",
     "text": [
      ">5, d1[0.100] d2[0.437] g[51.178]\n",
      ">Saved: images/plot_000005.png and models/model_000005.h5\n"
     ]
    },
    {
     "name": "stderr",
     "output_type": "stream",
     "text": [
      "Clipping input data to the valid range for imshow with RGB data ([0..1] for floats or [0..255] for integers).\n",
      "Clipping input data to the valid range for imshow with RGB data ([0..1] for floats or [0..255] for integers).\n",
      "Clipping input data to the valid range for imshow with RGB data ([0..1] for floats or [0..255] for integers).\n",
      "Clipping input data to the valid range for imshow with RGB data ([0..1] for floats or [0..255] for integers).\n",
      "Clipping input data to the valid range for imshow with RGB data ([0..1] for floats or [0..255] for integers).\n"
     ]
    },
    {
     "name": "stdout",
     "output_type": "stream",
     "text": [
      ">6, d1[0.131] d2[0.465] g[50.237]\n",
      ">Saved: images/plot_000006.png and models/model_000006.h5\n",
      ">7, d1[0.335] d2[0.739] g[50.699]\n"
     ]
    },
    {
     "name": "stderr",
     "output_type": "stream",
     "text": [
      "Clipping input data to the valid range for imshow with RGB data ([0..1] for floats or [0..255] for integers).\n",
      "Clipping input data to the valid range for imshow with RGB data ([0..1] for floats or [0..255] for integers).\n",
      "Clipping input data to the valid range for imshow with RGB data ([0..1] for floats or [0..255] for integers).\n",
      "Clipping input data to the valid range for imshow with RGB data ([0..1] for floats or [0..255] for integers).\n",
      "Clipping input data to the valid range for imshow with RGB data ([0..1] for floats or [0..255] for integers).\n"
     ]
    },
    {
     "name": "stdout",
     "output_type": "stream",
     "text": [
      ">8, d1[0.084] d2[0.045] g[48.057]\n",
      ">Saved: images/plot_000008.png and models/model_000008.h5\n"
     ]
    },
    {
     "name": "stderr",
     "output_type": "stream",
     "text": [
      "Clipping input data to the valid range for imshow with RGB data ([0..1] for floats or [0..255] for integers).\n",
      "Clipping input data to the valid range for imshow with RGB data ([0..1] for floats or [0..255] for integers).\n",
      "Clipping input data to the valid range for imshow with RGB data ([0..1] for floats or [0..255] for integers).\n",
      "Clipping input data to the valid range for imshow with RGB data ([0..1] for floats or [0..255] for integers).\n",
      "Clipping input data to the valid range for imshow with RGB data ([0..1] for floats or [0..255] for integers).\n"
     ]
    },
    {
     "name": "stdout",
     "output_type": "stream",
     "text": [
      ">9, d1[0.053] d2[0.707] g[47.351]\n",
      ">Saved: images/plot_000009.png and models/model_000009.h5\n"
     ]
    },
    {
     "name": "stderr",
     "output_type": "stream",
     "text": [
      "Clipping input data to the valid range for imshow with RGB data ([0..1] for floats or [0..255] for integers).\n",
      "Clipping input data to the valid range for imshow with RGB data ([0..1] for floats or [0..255] for integers).\n",
      "Clipping input data to the valid range for imshow with RGB data ([0..1] for floats or [0..255] for integers).\n",
      "Clipping input data to the valid range for imshow with RGB data ([0..1] for floats or [0..255] for integers).\n",
      "Clipping input data to the valid range for imshow with RGB data ([0..1] for floats or [0..255] for integers).\n"
     ]
    },
    {
     "name": "stdout",
     "output_type": "stream",
     "text": [
      ">10, d1[0.734] d2[1.631] g[47.016]\n",
      ">Saved: images/plot_000010.png and models/model_000010.h5\n"
     ]
    },
    {
     "name": "stderr",
     "output_type": "stream",
     "text": [
      "Clipping input data to the valid range for imshow with RGB data ([0..1] for floats or [0..255] for integers).\n",
      "Clipping input data to the valid range for imshow with RGB data ([0..1] for floats or [0..255] for integers).\n",
      "Clipping input data to the valid range for imshow with RGB data ([0..1] for floats or [0..255] for integers).\n",
      "Clipping input data to the valid range for imshow with RGB data ([0..1] for floats or [0..255] for integers).\n",
      "Clipping input data to the valid range for imshow with RGB data ([0..1] for floats or [0..255] for integers).\n"
     ]
    },
    {
     "name": "stdout",
     "output_type": "stream",
     "text": [
      ">11, d1[0.006] d2[0.000] g[46.390]\n",
      ">Saved: images/plot_000011.png and models/model_000011.h5\n"
     ]
    },
    {
     "name": "stderr",
     "output_type": "stream",
     "text": [
      "Clipping input data to the valid range for imshow with RGB data ([0..1] for floats or [0..255] for integers).\n",
      "Clipping input data to the valid range for imshow with RGB data ([0..1] for floats or [0..255] for integers).\n",
      "Clipping input data to the valid range for imshow with RGB data ([0..1] for floats or [0..255] for integers).\n",
      "Clipping input data to the valid range for imshow with RGB data ([0..1] for floats or [0..255] for integers).\n",
      "Clipping input data to the valid range for imshow with RGB data ([0..1] for floats or [0..255] for integers).\n"
     ]
    },
    {
     "name": "stdout",
     "output_type": "stream",
     "text": [
      ">12, d1[0.032] d2[0.000] g[43.456]\n",
      ">Saved: images/plot_000012.png and models/model_000012.h5\n"
     ]
    },
    {
     "name": "stderr",
     "output_type": "stream",
     "text": [
      "Clipping input data to the valid range for imshow with RGB data ([0..1] for floats or [0..255] for integers).\n",
      "Clipping input data to the valid range for imshow with RGB data ([0..1] for floats or [0..255] for integers).\n",
      "Clipping input data to the valid range for imshow with RGB data ([0..1] for floats or [0..255] for integers).\n",
      "Clipping input data to the valid range for imshow with RGB data ([0..1] for floats or [0..255] for integers).\n",
      "Clipping input data to the valid range for imshow with RGB data ([0..1] for floats or [0..255] for integers).\n"
     ]
    },
    {
     "name": "stdout",
     "output_type": "stream",
     "text": [
      ">13, d1[0.019] d2[0.015] g[38.995]\n",
      ">Saved: images/plot_000013.png and models/model_000013.h5\n",
      ">14, d1[0.004] d2[1.408] g[39.190]\n"
     ]
    },
    {
     "name": "stderr",
     "output_type": "stream",
     "text": [
      "Clipping input data to the valid range for imshow with RGB data ([0..1] for floats or [0..255] for integers).\n",
      "Clipping input data to the valid range for imshow with RGB data ([0..1] for floats or [0..255] for integers).\n",
      "Clipping input data to the valid range for imshow with RGB data ([0..1] for floats or [0..255] for integers).\n",
      "Clipping input data to the valid range for imshow with RGB data ([0..1] for floats or [0..255] for integers).\n",
      "Clipping input data to the valid range for imshow with RGB data ([0..1] for floats or [0..255] for integers).\n"
     ]
    },
    {
     "name": "stdout",
     "output_type": "stream",
     "text": [
      ">15, d1[2.328] d2[4.322] g[34.695]\n",
      ">Saved: images/plot_000015.png and models/model_000015.h5\n",
      ">16, d1[0.077] d2[1.118] g[38.503]\n"
     ]
    },
    {
     "name": "stderr",
     "output_type": "stream",
     "text": [
      "Clipping input data to the valid range for imshow with RGB data ([0..1] for floats or [0..255] for integers).\n",
      "Clipping input data to the valid range for imshow with RGB data ([0..1] for floats or [0..255] for integers).\n",
      "Clipping input data to the valid range for imshow with RGB data ([0..1] for floats or [0..255] for integers).\n",
      "Clipping input data to the valid range for imshow with RGB data ([0..1] for floats or [0..255] for integers).\n",
      "Clipping input data to the valid range for imshow with RGB data ([0..1] for floats or [0..255] for integers).\n"
     ]
    },
    {
     "name": "stdout",
     "output_type": "stream",
     "text": [
      ">17, d1[2.033] d2[0.251] g[30.942]\n",
      ">Saved: images/plot_000017.png and models/model_000017.h5\n",
      ">18, d1[0.001] d2[3.253] g[35.036]\n"
     ]
    },
    {
     "name": "stderr",
     "output_type": "stream",
     "text": [
      "Clipping input data to the valid range for imshow with RGB data ([0..1] for floats or [0..255] for integers).\n",
      "Clipping input data to the valid range for imshow with RGB data ([0..1] for floats or [0..255] for integers).\n",
      "Clipping input data to the valid range for imshow with RGB data ([0..1] for floats or [0..255] for integers).\n",
      "Clipping input data to the valid range for imshow with RGB data ([0..1] for floats or [0..255] for integers).\n",
      "Clipping input data to the valid range for imshow with RGB data ([0..1] for floats or [0..255] for integers).\n"
     ]
    },
    {
     "name": "stdout",
     "output_type": "stream",
     "text": [
      ">19, d1[0.971] d2[0.004] g[28.902]\n",
      ">Saved: images/plot_000019.png and models/model_000019.h5\n",
      ">20, d1[0.117] d2[3.419] g[34.553]\n"
     ]
    },
    {
     "name": "stderr",
     "output_type": "stream",
     "text": [
      "Clipping input data to the valid range for imshow with RGB data ([0..1] for floats or [0..255] for integers).\n",
      "Clipping input data to the valid range for imshow with RGB data ([0..1] for floats or [0..255] for integers).\n",
      "Clipping input data to the valid range for imshow with RGB data ([0..1] for floats or [0..255] for integers).\n",
      "Clipping input data to the valid range for imshow with RGB data ([0..1] for floats or [0..255] for integers).\n",
      "Clipping input data to the valid range for imshow with RGB data ([0..1] for floats or [0..255] for integers).\n"
     ]
    },
    {
     "name": "stdout",
     "output_type": "stream",
     "text": [
      ">21, d1[3.516] d2[0.002] g[24.396]\n",
      ">Saved: images/plot_000021.png and models/model_000021.h5\n",
      ">22, d1[0.000] d2[2.461] g[27.470]\n"
     ]
    },
    {
     "name": "stderr",
     "output_type": "stream",
     "text": [
      "Clipping input data to the valid range for imshow with RGB data ([0..1] for floats or [0..255] for integers).\n",
      "Clipping input data to the valid range for imshow with RGB data ([0..1] for floats or [0..255] for integers).\n",
      "Clipping input data to the valid range for imshow with RGB data ([0..1] for floats or [0..255] for integers).\n",
      "Clipping input data to the valid range for imshow with RGB data ([0..1] for floats or [0..255] for integers).\n",
      "Clipping input data to the valid range for imshow with RGB data ([0..1] for floats or [0..255] for integers).\n"
     ]
    },
    {
     "name": "stdout",
     "output_type": "stream",
     "text": [
      ">23, d1[0.515] d2[0.061] g[20.713]\n",
      ">Saved: images/plot_000023.png and models/model_000023.h5\n",
      ">24, d1[0.157] d2[2.434] g[30.656]\n"
     ]
    },
    {
     "name": "stderr",
     "output_type": "stream",
     "text": [
      "Clipping input data to the valid range for imshow with RGB data ([0..1] for floats or [0..255] for integers).\n",
      "Clipping input data to the valid range for imshow with RGB data ([0..1] for floats or [0..255] for integers).\n",
      "Clipping input data to the valid range for imshow with RGB data ([0..1] for floats or [0..255] for integers).\n",
      "Clipping input data to the valid range for imshow with RGB data ([0..1] for floats or [0..255] for integers).\n",
      "Clipping input data to the valid range for imshow with RGB data ([0..1] for floats or [0..255] for integers).\n"
     ]
    },
    {
     "name": "stdout",
     "output_type": "stream",
     "text": [
      ">25, d1[4.930] d2[0.009] g[19.504]\n",
      ">Saved: images/plot_000025.png and models/model_000025.h5\n"
     ]
    },
    {
     "name": "stderr",
     "output_type": "stream",
     "text": [
      "Clipping input data to the valid range for imshow with RGB data ([0..1] for floats or [0..255] for integers).\n",
      "Clipping input data to the valid range for imshow with RGB data ([0..1] for floats or [0..255] for integers).\n",
      "Clipping input data to the valid range for imshow with RGB data ([0..1] for floats or [0..255] for integers).\n",
      "Clipping input data to the valid range for imshow with RGB data ([0..1] for floats or [0..255] for integers).\n",
      "Clipping input data to the valid range for imshow with RGB data ([0..1] for floats or [0..255] for integers).\n"
     ]
    },
    {
     "name": "stdout",
     "output_type": "stream",
     "text": [
      ">26, d1[0.025] d2[3.357] g[19.400]\n",
      ">Saved: images/plot_000026.png and models/model_000026.h5\n"
     ]
    },
    {
     "name": "stderr",
     "output_type": "stream",
     "text": [
      "Clipping input data to the valid range for imshow with RGB data ([0..1] for floats or [0..255] for integers).\n",
      "Clipping input data to the valid range for imshow with RGB data ([0..1] for floats or [0..255] for integers).\n",
      "Clipping input data to the valid range for imshow with RGB data ([0..1] for floats or [0..255] for integers).\n",
      "Clipping input data to the valid range for imshow with RGB data ([0..1] for floats or [0..255] for integers).\n",
      "Clipping input data to the valid range for imshow with RGB data ([0..1] for floats or [0..255] for integers).\n"
     ]
    },
    {
     "name": "stdout",
     "output_type": "stream",
     "text": [
      ">27, d1[1.561] d2[0.663] g[18.281]\n",
      ">Saved: images/plot_000027.png and models/model_000027.h5\n"
     ]
    },
    {
     "name": "stderr",
     "output_type": "stream",
     "text": [
      "Clipping input data to the valid range for imshow with RGB data ([0..1] for floats or [0..255] for integers).\n",
      "Clipping input data to the valid range for imshow with RGB data ([0..1] for floats or [0..255] for integers).\n",
      "Clipping input data to the valid range for imshow with RGB data ([0..1] for floats or [0..255] for integers).\n",
      "Clipping input data to the valid range for imshow with RGB data ([0..1] for floats or [0..255] for integers).\n",
      "Clipping input data to the valid range for imshow with RGB data ([0..1] for floats or [0..255] for integers).\n"
     ]
    },
    {
     "name": "stdout",
     "output_type": "stream",
     "text": [
      ">28, d1[1.362] d2[2.838] g[17.124]\n",
      ">Saved: images/plot_000028.png and models/model_000028.h5\n",
      ">29, d1[0.993] d2[2.255] g[21.918]\n"
     ]
    },
    {
     "name": "stderr",
     "output_type": "stream",
     "text": [
      "Clipping input data to the valid range for imshow with RGB data ([0..1] for floats or [0..255] for integers).\n",
      "Clipping input data to the valid range for imshow with RGB data ([0..1] for floats or [0..255] for integers).\n",
      "Clipping input data to the valid range for imshow with RGB data ([0..1] for floats or [0..255] for integers).\n",
      "Clipping input data to the valid range for imshow with RGB data ([0..1] for floats or [0..255] for integers).\n",
      "Clipping input data to the valid range for imshow with RGB data ([0..1] for floats or [0..255] for integers).\n"
     ]
    },
    {
     "name": "stdout",
     "output_type": "stream",
     "text": [
      ">30, d1[2.884] d2[0.925] g[15.213]\n",
      ">Saved: images/plot_000030.png and models/model_000030.h5\n"
     ]
    },
    {
     "name": "stderr",
     "output_type": "stream",
     "text": [
      "Clipping input data to the valid range for imshow with RGB data ([0..1] for floats or [0..255] for integers).\n",
      "Clipping input data to the valid range for imshow with RGB data ([0..1] for floats or [0..255] for integers).\n",
      "Clipping input data to the valid range for imshow with RGB data ([0..1] for floats or [0..255] for integers).\n",
      "Clipping input data to the valid range for imshow with RGB data ([0..1] for floats or [0..255] for integers).\n",
      "Clipping input data to the valid range for imshow with RGB data ([0..1] for floats or [0..255] for integers).\n"
     ]
    },
    {
     "name": "stdout",
     "output_type": "stream",
     "text": [
      ">31, d1[0.830] d2[0.999] g[13.584]\n",
      ">Saved: images/plot_000031.png and models/model_000031.h5\n",
      ">32, d1[0.403] d2[1.009] g[15.991]\n",
      ">33, d1[1.735] d2[0.324] g[14.721]\n"
     ]
    }
   ],
   "source": [
    "train(d,g,p2p)"
   ]
  },
  {
   "cell_type": "code",
   "execution_count": null,
   "id": "promising-finding",
   "metadata": {},
   "outputs": [],
   "source": []
  }
 ],
 "metadata": {
  "kernelspec": {
   "display_name": "Python 3",
   "language": "python",
   "name": "python3"
  },
  "language_info": {
   "codemirror_mode": {
    "name": "ipython",
    "version": 3
   },
   "file_extension": ".py",
   "mimetype": "text/x-python",
   "name": "python",
   "nbconvert_exporter": "python",
   "pygments_lexer": "ipython3",
   "version": "3.7.0"
  }
 },
 "nbformat": 4,
 "nbformat_minor": 5
}
